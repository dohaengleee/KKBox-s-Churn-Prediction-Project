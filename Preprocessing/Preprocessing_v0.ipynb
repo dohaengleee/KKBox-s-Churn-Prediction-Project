{
 "cells": [
  {
   "cell_type": "code",
   "execution_count": 1,
   "metadata": {},
   "outputs": [],
   "source": [
    "%matplotlib inline\n",
    "from collections import Counter\n",
    "\n",
    "members = pd.read_csv(\"data/members_v3.csv\")\n",
    "train = pd.read_csv(\"data/train_v2.csv\")\n",
    "transactions = pd.read_csv(\"data/transactions_v2.csv\")\n",
    "user_logs = pd.read_csv(\"data/user_logs_v2.csv\")\n",
    "sample_submission = pd.read_csv(\"data/sample_submission_v2.csv\")"
   ]
  },
  {
   "cell_type": "code",
   "execution_count": 2,
   "metadata": {},
   "outputs": [
    {
     "data": {
      "text/html": [
       "<div>\n",
       "<style scoped>\n",
       "    .dataframe tbody tr th:only-of-type {\n",
       "        vertical-align: middle;\n",
       "    }\n",
       "\n",
       "    .dataframe tbody tr th {\n",
       "        vertical-align: top;\n",
       "    }\n",
       "\n",
       "    .dataframe thead th {\n",
       "        text-align: right;\n",
       "    }\n",
       "</style>\n",
       "<table border=\"1\" class=\"dataframe\">\n",
       "  <thead>\n",
       "    <tr style=\"text-align: right;\">\n",
       "      <th></th>\n",
       "      <th>payment_method_id</th>\n",
       "      <th>payment_plan_days</th>\n",
       "      <th>plan_list_price</th>\n",
       "      <th>actual_amount_paid</th>\n",
       "      <th>is_auto_renew</th>\n",
       "      <th>transaction_date</th>\n",
       "      <th>membership_expire_date</th>\n",
       "      <th>is_cancel</th>\n",
       "    </tr>\n",
       "  </thead>\n",
       "  <tbody>\n",
       "    <tr>\n",
       "      <th>count</th>\n",
       "      <td>1.431009e+06</td>\n",
       "      <td>1.431009e+06</td>\n",
       "      <td>1.431009e+06</td>\n",
       "      <td>1.431009e+06</td>\n",
       "      <td>1.431009e+06</td>\n",
       "      <td>1.431009e+06</td>\n",
       "      <td>1.431009e+06</td>\n",
       "      <td>1.431009e+06</td>\n",
       "    </tr>\n",
       "    <tr>\n",
       "      <th>mean</th>\n",
       "      <td>3.791835e+01</td>\n",
       "      <td>6.601770e+01</td>\n",
       "      <td>2.817870e+02</td>\n",
       "      <td>2.813172e+02</td>\n",
       "      <td>7.853025e-01</td>\n",
       "      <td>2.016848e+07</td>\n",
       "      <td>2.017110e+07</td>\n",
       "      <td>2.455121e-02</td>\n",
       "    </tr>\n",
       "    <tr>\n",
       "      <th>std</th>\n",
       "      <td>4.964805e+00</td>\n",
       "      <td>1.024864e+02</td>\n",
       "      <td>4.351861e+02</td>\n",
       "      <td>4.354200e+02</td>\n",
       "      <td>4.106124e-01</td>\n",
       "      <td>4.858797e+03</td>\n",
       "      <td>3.032367e+03</td>\n",
       "      <td>1.547529e-01</td>\n",
       "    </tr>\n",
       "    <tr>\n",
       "      <th>min</th>\n",
       "      <td>2.000000e+00</td>\n",
       "      <td>0.000000e+00</td>\n",
       "      <td>0.000000e+00</td>\n",
       "      <td>0.000000e+00</td>\n",
       "      <td>0.000000e+00</td>\n",
       "      <td>2.015010e+07</td>\n",
       "      <td>2.016042e+07</td>\n",
       "      <td>0.000000e+00</td>\n",
       "    </tr>\n",
       "    <tr>\n",
       "      <th>25%</th>\n",
       "      <td>3.600000e+01</td>\n",
       "      <td>3.000000e+01</td>\n",
       "      <td>9.900000e+01</td>\n",
       "      <td>9.900000e+01</td>\n",
       "      <td>1.000000e+00</td>\n",
       "      <td>2.017023e+07</td>\n",
       "      <td>2.017041e+07</td>\n",
       "      <td>0.000000e+00</td>\n",
       "    </tr>\n",
       "    <tr>\n",
       "      <th>50%</th>\n",
       "      <td>4.000000e+01</td>\n",
       "      <td>3.000000e+01</td>\n",
       "      <td>1.490000e+02</td>\n",
       "      <td>1.490000e+02</td>\n",
       "      <td>1.000000e+00</td>\n",
       "      <td>2.017031e+07</td>\n",
       "      <td>2.017042e+07</td>\n",
       "      <td>0.000000e+00</td>\n",
       "    </tr>\n",
       "    <tr>\n",
       "      <th>75%</th>\n",
       "      <td>4.100000e+01</td>\n",
       "      <td>3.000000e+01</td>\n",
       "      <td>1.490000e+02</td>\n",
       "      <td>1.490000e+02</td>\n",
       "      <td>1.000000e+00</td>\n",
       "      <td>2.017032e+07</td>\n",
       "      <td>2.017050e+07</td>\n",
       "      <td>0.000000e+00</td>\n",
       "    </tr>\n",
       "    <tr>\n",
       "      <th>max</th>\n",
       "      <td>4.100000e+01</td>\n",
       "      <td>4.500000e+02</td>\n",
       "      <td>2.000000e+03</td>\n",
       "      <td>2.000000e+03</td>\n",
       "      <td>1.000000e+00</td>\n",
       "      <td>2.017033e+07</td>\n",
       "      <td>2.036102e+07</td>\n",
       "      <td>1.000000e+00</td>\n",
       "    </tr>\n",
       "  </tbody>\n",
       "</table>\n",
       "</div>"
      ],
      "text/plain": [
       "       payment_method_id  payment_plan_days  plan_list_price  \\\n",
       "count       1.431009e+06       1.431009e+06     1.431009e+06   \n",
       "mean        3.791835e+01       6.601770e+01     2.817870e+02   \n",
       "std         4.964805e+00       1.024864e+02     4.351861e+02   \n",
       "min         2.000000e+00       0.000000e+00     0.000000e+00   \n",
       "25%         3.600000e+01       3.000000e+01     9.900000e+01   \n",
       "50%         4.000000e+01       3.000000e+01     1.490000e+02   \n",
       "75%         4.100000e+01       3.000000e+01     1.490000e+02   \n",
       "max         4.100000e+01       4.500000e+02     2.000000e+03   \n",
       "\n",
       "       actual_amount_paid  is_auto_renew  transaction_date  \\\n",
       "count        1.431009e+06   1.431009e+06      1.431009e+06   \n",
       "mean         2.813172e+02   7.853025e-01      2.016848e+07   \n",
       "std          4.354200e+02   4.106124e-01      4.858797e+03   \n",
       "min          0.000000e+00   0.000000e+00      2.015010e+07   \n",
       "25%          9.900000e+01   1.000000e+00      2.017023e+07   \n",
       "50%          1.490000e+02   1.000000e+00      2.017031e+07   \n",
       "75%          1.490000e+02   1.000000e+00      2.017032e+07   \n",
       "max          2.000000e+03   1.000000e+00      2.017033e+07   \n",
       "\n",
       "       membership_expire_date     is_cancel  \n",
       "count            1.431009e+06  1.431009e+06  \n",
       "mean             2.017110e+07  2.455121e-02  \n",
       "std              3.032367e+03  1.547529e-01  \n",
       "min              2.016042e+07  0.000000e+00  \n",
       "25%              2.017041e+07  0.000000e+00  \n",
       "50%              2.017042e+07  0.000000e+00  \n",
       "75%              2.017050e+07  0.000000e+00  \n",
       "max              2.036102e+07  1.000000e+00  "
      ]
     },
     "execution_count": 2,
     "metadata": {},
     "output_type": "execute_result"
    }
   ],
   "source": [
    "transactions.describe()"
   ]
  },
  {
   "cell_type": "code",
   "execution_count": 3,
   "metadata": {},
   "outputs": [
    {
     "data": {
      "text/html": [
       "<div>\n",
       "<style scoped>\n",
       "    .dataframe tbody tr th:only-of-type {\n",
       "        vertical-align: middle;\n",
       "    }\n",
       "\n",
       "    .dataframe tbody tr th {\n",
       "        vertical-align: top;\n",
       "    }\n",
       "\n",
       "    .dataframe thead th {\n",
       "        text-align: right;\n",
       "    }\n",
       "</style>\n",
       "<table border=\"1\" class=\"dataframe\">\n",
       "  <thead>\n",
       "    <tr style=\"text-align: right;\">\n",
       "      <th></th>\n",
       "      <th>msno</th>\n",
       "      <th>payment_method_id</th>\n",
       "      <th>payment_plan_days</th>\n",
       "      <th>plan_list_price</th>\n",
       "      <th>actual_amount_paid</th>\n",
       "      <th>is_auto_renew</th>\n",
       "      <th>transaction_date</th>\n",
       "      <th>membership_expire_date</th>\n",
       "      <th>is_cancel</th>\n",
       "    </tr>\n",
       "  </thead>\n",
       "  <tbody>\n",
       "    <tr>\n",
       "      <th>1431004</th>\n",
       "      <td>zwF50wwaJI2TBKWhB42HRBJ6EQK0jgSo1Xmwb9Jq3SU=</td>\n",
       "      <td>32</td>\n",
       "      <td>180</td>\n",
       "      <td>536</td>\n",
       "      <td>536</td>\n",
       "      <td>0</td>\n",
       "      <td>20170215</td>\n",
       "      <td>20170817</td>\n",
       "      <td>0</td>\n",
       "    </tr>\n",
       "    <tr>\n",
       "      <th>1431005</th>\n",
       "      <td>zx/h5MzQQmsSat04wSfGpHp6N8aWLLwM1+7OV7ujmPY=</td>\n",
       "      <td>41</td>\n",
       "      <td>30</td>\n",
       "      <td>149</td>\n",
       "      <td>149</td>\n",
       "      <td>1</td>\n",
       "      <td>20170306</td>\n",
       "      <td>20170406</td>\n",
       "      <td>0</td>\n",
       "    </tr>\n",
       "    <tr>\n",
       "      <th>1431006</th>\n",
       "      <td>zxvgjIKjy18Fm+cIWUfYKr68z09+ILBxuMW0DnbeUZ8=</td>\n",
       "      <td>41</td>\n",
       "      <td>30</td>\n",
       "      <td>99</td>\n",
       "      <td>99</td>\n",
       "      <td>1</td>\n",
       "      <td>20170308</td>\n",
       "      <td>20170408</td>\n",
       "      <td>0</td>\n",
       "    </tr>\n",
       "    <tr>\n",
       "      <th>1431007</th>\n",
       "      <td>zzNhkExbpzmpjp9tXefiCUBtgNLgS+vZE7fFfTRDJVc=</td>\n",
       "      <td>38</td>\n",
       "      <td>30</td>\n",
       "      <td>149</td>\n",
       "      <td>149</td>\n",
       "      <td>0</td>\n",
       "      <td>20170318</td>\n",
       "      <td>20170417</td>\n",
       "      <td>0</td>\n",
       "    </tr>\n",
       "    <tr>\n",
       "      <th>1431008</th>\n",
       "      <td>zzZmdSzz7J9oyC/5nHr/HBvWg6k+p2W15b6lt/VKUQE=</td>\n",
       "      <td>32</td>\n",
       "      <td>180</td>\n",
       "      <td>699</td>\n",
       "      <td>699</td>\n",
       "      <td>0</td>\n",
       "      <td>20161212</td>\n",
       "      <td>20170613</td>\n",
       "      <td>0</td>\n",
       "    </tr>\n",
       "  </tbody>\n",
       "</table>\n",
       "</div>"
      ],
      "text/plain": [
       "                                                 msno  payment_method_id  \\\n",
       "1431004  zwF50wwaJI2TBKWhB42HRBJ6EQK0jgSo1Xmwb9Jq3SU=                 32   \n",
       "1431005  zx/h5MzQQmsSat04wSfGpHp6N8aWLLwM1+7OV7ujmPY=                 41   \n",
       "1431006  zxvgjIKjy18Fm+cIWUfYKr68z09+ILBxuMW0DnbeUZ8=                 41   \n",
       "1431007  zzNhkExbpzmpjp9tXefiCUBtgNLgS+vZE7fFfTRDJVc=                 38   \n",
       "1431008  zzZmdSzz7J9oyC/5nHr/HBvWg6k+p2W15b6lt/VKUQE=                 32   \n",
       "\n",
       "         payment_plan_days  plan_list_price  actual_amount_paid  \\\n",
       "1431004                180              536                 536   \n",
       "1431005                 30              149                 149   \n",
       "1431006                 30               99                  99   \n",
       "1431007                 30              149                 149   \n",
       "1431008                180              699                 699   \n",
       "\n",
       "         is_auto_renew  transaction_date  membership_expire_date  is_cancel  \n",
       "1431004              0          20170215                20170817          0  \n",
       "1431005              1          20170306                20170406          0  \n",
       "1431006              1          20170308                20170408          0  \n",
       "1431007              0          20170318                20170417          0  \n",
       "1431008              0          20161212                20170613          0  "
      ]
     },
     "execution_count": 3,
     "metadata": {},
     "output_type": "execute_result"
    }
   ],
   "source": [
    "transactions.tail()"
   ]
  },
  {
   "cell_type": "code",
   "execution_count": 4,
   "metadata": {},
   "outputs": [],
   "source": [
    "transactions_new = transactions.sort_values(by=['transaction_date'], ascending=False).reset_index(drop=True) # transaction_date이 제일 최신날짜인 것을 기준으로 중복제거\n",
    "transactions_new = transactions_new.drop_duplicates(subset=['msno'], keep='first')"
   ]
  },
  {
   "cell_type": "code",
   "execution_count": 5,
   "metadata": {},
   "outputs": [
    {
     "data": {
      "text/plain": [
       "(1197050, 9)"
      ]
     },
     "execution_count": 5,
     "metadata": {},
     "output_type": "execute_result"
    }
   ],
   "source": [
    "transactions_new.shape"
   ]
  },
  {
   "cell_type": "code",
   "execution_count": 6,
   "metadata": {},
   "outputs": [
    {
     "data": {
      "text/plain": [
       "(970960, 10)"
      ]
     },
     "execution_count": 6,
     "metadata": {},
     "output_type": "execute_result"
    }
   ],
   "source": [
    "train_transactions = pd.merge(train, transactions_new, how='left') # train 데이터와 msno를 기준으로 merge\n",
    "train_transactions.shape"
   ]
  },
  {
   "cell_type": "code",
   "execution_count": 7,
   "metadata": {},
   "outputs": [
    {
     "data": {
      "text/plain": [
       "msno                          0\n",
       "is_churn                      0\n",
       "payment_method_id         37382\n",
       "payment_plan_days         37382\n",
       "plan_list_price           37382\n",
       "actual_amount_paid        37382\n",
       "is_auto_renew             37382\n",
       "transaction_date          37382\n",
       "membership_expire_date    37382\n",
       "is_cancel                 37382\n",
       "dtype: int64"
      ]
     },
     "execution_count": 7,
     "metadata": {},
     "output_type": "execute_result"
    }
   ],
   "source": [
    "train_transactions.isnull().sum() #train에는 있고, transactions에는 없는 값들이 NaN으로 들어간다. 37382개"
   ]
  },
  {
   "cell_type": "code",
   "execution_count": 8,
   "metadata": {},
   "outputs": [
    {
     "name": "stdout",
     "output_type": "stream",
     "text": [
      "pmi_count[(41.0, 540802), (40.0, 73261), (36.0, 67937), (39.0, 65214), (38.0, 41999), (37.0, 36864), (34.0, 28703), (30.0, 16388), (29.0, 15403), (33.0, 14127), (31.0, 10301), (32.0, 7756), (15.0, 2213), (23.0, 2129), (27.0, 1822), (28.0, 1652), (19.0, 1296), (21.0, 910), (20.0, 833), (16.0, 813), (18.0, 635), (14.0, 544), (17.0, 506), (22.0, 483), (13.0, 305), (35.0, 249), (12.0, 209), (26.0, 89), (11.0, 75), (10.0, 38), (8.0, 9), (3.0, 8), (6.0, 5)]\n"
     ]
    }
   ],
   "source": [
    "# fill train_transactions['payment_method_id'] NaN values\n",
    "pmi = train_transactions['payment_method_id'].dropna(axis=0, how=any)\n",
    "pmi_count = Counter(pmi).most_common()\n",
    "print(\"pmi_count\" +str(pmi_count))"
   ]
  },
  {
   "cell_type": "code",
   "execution_count": 10,
   "metadata": {},
   "outputs": [
    {
     "data": {
      "text/plain": [
       "933578"
      ]
     },
     "execution_count": 10,
     "metadata": {},
     "output_type": "execute_result"
    }
   ],
   "source": [
    "pmi_count = dict(pmi_count)\n",
    "sum_count = 0\n",
    "for i in pmi_count.values():\n",
    "    sum_count = i + sum_count\n",
    "    \n",
    "sum_count"
   ]
  },
  {
   "cell_type": "code",
   "execution_count": 11,
   "metadata": {},
   "outputs": [],
   "source": [
    "result = []\n",
    "for a in pmi_count.values():\n",
    "    result.append(a/sum_count)"
   ]
  },
  {
   "cell_type": "code",
   "execution_count": 12,
   "metadata": {},
   "outputs": [],
   "source": [
    "pmi.sort_values(ascending=False).unique()\n",
    "pmi_ls = list(pmi_count.keys())\n",
    "pmi_nan = np.random.choice(pmi_ls, 37382, p = result)"
   ]
  },
  {
   "cell_type": "code",
   "execution_count": 13,
   "metadata": {},
   "outputs": [
    {
     "data": {
      "image/png": "[encoded data removed]",
      "text/plain": [
       "<matplotlib.figure.Figure at 0x1dabb658438>"
      ]
     },
     "metadata": {
      "image/png": {
       "height": 248,
       "width": 402
      }
     },
     "output_type": "display_data"
    }
   ],
   "source": [
    "sns.countplot(pmi_nan)\n",
    "plt.show()"
   ]
  },
  {
   "cell_type": "code",
   "execution_count": 14,
   "metadata": {},
   "outputs": [
    {
     "name": "stdout",
     "output_type": "stream",
     "text": [
      "ppd_count[(30.0, 915274), (410.0, 4455), (90.0, 3689), (180.0, 2929), (195.0, 2925), (360.0, 1221), (100.0, 636), (60.0, 493), (7.0, 409), (395.0, 291), (200.0, 272), (240.0, 189), (120.0, 186), (365.0, 154), (400.0, 150), (1.0, 89), (450.0, 74), (10.0, 59), (14.0, 24), (70.0, 14), (415.0, 12), (80.0, 9), (270.0, 8), (110.0, 7), (35.0, 4), (230.0, 2), (3.0, 2), (0.0, 1)]\n"
     ]
    }
   ],
   "source": [
    "# fill train_transactions['payment_plan_days'] NaN values\n",
    "ppd = train_transactions['payment_plan_days'].dropna(axis=0, how=any)\n",
    "ppd_count = Counter(ppd).most_common()\n",
    "print(\"ppd_count\" +str(ppd_count))"
   ]
  },
  {
   "cell_type": "code",
   "execution_count": 15,
   "metadata": {},
   "outputs": [],
   "source": [
    "ppd_count = dict(ppd_count)\n",
    "\n",
    "result2 = []\n",
    "for a in ppd_count.values():\n",
    "    result2.append(a/sum_count)\n",
    "    \n",
    "ppd_ls = list(ppd_count.keys())\n",
    "ppd_nan = np.random.choice(ppd_ls, 37382, p = result2)"
   ]
  },
  {
   "cell_type": "code",
   "execution_count": 16,
   "metadata": {},
   "outputs": [
    {
     "data": {
      "image/png": "[encoded data removed]",
      "text/plain": [
       "<matplotlib.figure.Figure at 0x1db9c6e8dd8>"
      ]
     },
     "metadata": {
      "image/png": {
       "height": 248,
       "width": 402
      }
     },
     "output_type": "display_data"
    }
   ],
   "source": [
    "sns.countplot(ppd_nan)\n",
    "plt.show()"
   ]
  }
 ],
 "metadata": {
  "kernelspec": {
   "display_name": "Python 3",
   "language": "python",
   "name": "python3"
  },
  "language_info": {
   "codemirror_mode": {
    "name": "ipython",
    "version": 3
   },
   "file_extension": ".py",
   "mimetype": "text/x-python",
   "name": "python",
   "nbconvert_exporter": "python",
   "pygments_lexer": "ipython3",
   "version": "3.6.4"
  }
 },
 "nbformat": 4,
 "nbformat_minor": 2
}
